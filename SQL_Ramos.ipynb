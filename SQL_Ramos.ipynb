{
 "cells": [
  {
   "cell_type": "markdown",
   "metadata": {},
   "source": [
    "Task 1: Pull Descriptive Statistics with a CTE\n",
    "\n",
    "Using a CTE and the \"subscriptions\" and \"products\" tables, calculate the:\n",
    "- minimum monthly revenue\n",
    "- maximum monthly revenue\n",
    "- average monthly revenue\n",
    "- standard deviation of the monthly revenue\n",
    "\n",
    "for each product, ProductName"
   ]
  },
  {
   "cell_type": "code",
   "execution_count": null,
   "metadata": {
    "vscode": {
     "languageId": "sql"
    }
   },
   "outputs": [],
   "source": [
    "-- SQL request(s)​​​​​​‌​‌​​‌‌​​​‌‌​‌​​​‌‌​‌​​‌‌ below\n",
    "WITH Revenues AS (\n",
    "    SELECT \n",
    "        SUM(S.Revenue) AS Revenue \n",
    "        , P.PRODUCTNAME \n",
    "        , date_trunc('month', S.OrderDate) AS OrderMonth\n",
    "    FROM \n",
    "        Subscriptions AS S\n",
    "            INNER JOIN \n",
    "        Products AS P\n",
    "            ON \n",
    "        S.PRODUCTID = P.PRODUCTID\n",
    "    WHERE \n",
    "        S.OrderDate BETWEEN '2022-01-01' AND '2022-12-31'\n",
    "    GROUP By \n",
    "        P.PRODUCTNAME \n",
    "        , OrderMonth\n",
    ")\n",
    "SELECT \n",
    "--     *\n",
    "    ProductName\n",
    "    , MIN(REVENUE) AS MIN_REV\n",
    "    , MAX(REVENUE) AS MAX_REV\n",
    "    , AVG(REVENUE) AS AVG_REV\n",
    "    , STDDEV(REVENUE) AS STD_DEV_REV\n",
    "FROM \n",
    "    Revenues\n",
    "GROUP BY \n",
    "    Revenues.ProductName"
   ]
  },
  {
   "cell_type": "markdown",
   "metadata": {},
   "source": [
    "Task 2: Variable Distributions with CTEs\n",
    "\n",
    "Use a CTE and the frontendeventlog table to find the distribution of users across the number of times the email link was clicked per user. "
   ]
  },
  {
   "cell_type": "code",
   "execution_count": null,
   "metadata": {
    "vscode": {
     "languageId": "sql"
    }
   },
   "outputs": [],
   "source": [
    "WITH email_link_clicks AS (\n",
    "    SELECT \n",
    "        userid\n",
    "        , COUNT(*) AS num_link_clicks\n",
    "    FROM   \n",
    "        frontendeventlog\n",
    "    WHERE \n",
    "        eventid = 5\n",
    "    GROUP BY \n",
    "        userid\n",
    ")\n",
    "\n",
    "SELECT \n",
    "    num_link_clicks\n",
    "    , COUNT(*) AS num_users\n",
    "FROM \n",
    "    email_link_clicks\n",
    "GROUP BY \n",
    "    num_link_clicks"
   ]
  },
  {
   "cell_type": "markdown",
   "metadata": {},
   "source": [
    "Task 3: Payment Funnel Analysis with Multiple CTES\n",
    "\n",
    "Count the number of subscriptions in each paymentfunnelstage by incorporating the maxstatus reached and currentstatus per subscription. Use the paymentstatuslog and subscriptions tables. \n",
    "\n",
    "Funnel:\n",
    "1. User opens widget\n",
    "2. User types in CC info\n",
    "3. User clicks submit to complete payment\n",
    "4. Product sends data to 3rd party payment processing\n",
    "5. Payment company completes transaction and reports back 'complete'\n",
    "\n",
    "Status IDs\n",
    "0. Error\n",
    "1. PaymentWidgetOpened\n",
    "2. PaymentEntered\n",
    "3. PaymentSubmitted\n",
    "4. PaymentSuccess\n",
    "5. Complete"
   ]
  },
  {
   "cell_type": "code",
   "execution_count": null,
   "metadata": {
    "vscode": {
     "languageId": "sql"
    }
   },
   "outputs": [],
   "source": [
    "-- Need a case switch to set up the funnel\n",
    "-- Status 0 represents an error\n",
    "\n",
    "CASE \n",
    "    WHEN maxstatus = 1 THEN 'PaymentWidgetOpened'\n",
    "    WHEN maxstatus = 2 THEN 'PaymentEntered'\n",
    "    WHEN maxstatus = 3 AND currentstatus = 0 THEN 'User Error with Payment Submission'\n",
    "    WHEN maxstatus = 3 AND currentstatus != 0 THEN 'Payment Submitted'\n",
    "    WHEN maxstatus = 4 AND currentstatus = 0 THEN 'Payment Processing Error with Vendor'\n",
    "    WHEN maxstatus = 4 AND currentstatus !=0 THEN 'Payment Success'\n",
    "    WHEN maxstatus = 5 THEN 'Complete'\n",
    "    WHEN maxstatus IS NULL THEN 'User did not start payment process'\n",
    "    END AS paymentfunnelstage"
   ]
  },
  {
   "cell_type": "code",
   "execution_count": null,
   "metadata": {
    "vscode": {
     "languageId": "sql"
    }
   },
   "outputs": [],
   "source": [
    "WITH Max_Status_Reached AS    ( \n",
    "    SELECT SubscriptionID,\n",
    "             MAX(StatusID) AS maxstatus\n",
    "     FROM \n",
    "        PaymentStatusLog\n",
    "     GROUP BY \n",
    "        SubscriptionID\n",
    ")    \n",
    ",\n",
    "PaymentFunnelStages AS\n",
    "    ( SELECT\n",
    "            Subs.SubscriptionID, \n",
    "            case\n",
    "                 when maxstatus = 1 then 'PaymentWidgetOpened'\n",
    "                 when maxstatus = 2 then 'PaymentEntered'\n",
    "                 when maxstatus = 3\n",
    "                      and currentstatus = 0 then 'User Error with Payment Submission'\n",
    "                 when maxstatus = 3\n",
    "                      and currentstatus != 0 then 'Payment Submitted'\n",
    "                 when maxstatus = 4\n",
    "                      and currentstatus = 0 then 'Payment Processing Error with Vendor'\n",
    "                 when maxstatus = 4\n",
    "                      and currentstatus != 0 then 'Payment Success'\n",
    "                 when maxstatus = 5 then 'Complete'\n",
    "                 when maxstatus is null then 'User did not start payment process'\n",
    "             end as paymentfunnelstage\n",
    "     FROM \n",
    "        Subscriptions Subs\n",
    "    LEFT JOIN\n",
    "        Max_Status_Reached MS    \n",
    "    ON Subs.SubscriptionID = MS.SubscriptionID\n",
    ")\n",
    "\n",
    "\n",
    "SELECT paymentfunnelstage,\n",
    "       COUNT(SubscriptionID) AS subscriptions\n",
    "FROM PaymentFunnelStages\n",
    "GROUP BY paymentfunnelstage;\n",
    "\n"
   ]
  },
  {
   "cell_type": "markdown",
   "metadata": {},
   "source": [
    "Creating Binary Columns with CASE \n",
    "\n",
    "Flagging upsell opportunities with the sales team. They want to reach customers meeting either of the following conditions, 'upsell_opportunity': \n",
    "\n",
    "1. Have at least 5000 registered users\n",
    "\n",
    "2. Only have 1 product subscription\n",
    "\n",
    "Create a report using the 'subscriptions' table that contains\n",
    "- customerid\n",
    "- totual number of products for that customer, num_products\n",
    "- total number of users for that customer, total_users\n",
    "- Binary column flags 1 for those who meet the upsell_opportunity conditions"
   ]
  },
  {
   "cell_type": "code",
   "execution_count": null,
   "metadata": {
    "vscode": {
     "languageId": "sql"
    }
   },
   "outputs": [],
   "source": [
    "SELECT customerID,\n",
    "       COUNT(productID) as num_products ,\n",
    "       SUM(NumberofUsers) as total_users ,\n",
    "       CASE\n",
    "           WHEN (COUNT(productID) = 1\n",
    "                 OR SUM(NumberofUsers) >= 5000) THEN 1\n",
    "           ELSE 0\n",
    "       END upsell_opportunity\n",
    "FROM subscriptions\n",
    "GROUP BY CustomerID"
   ]
  },
  {
   "cell_type": "markdown",
   "metadata": {},
   "source": [
    "Pivoting Rows into aggregated columns using CASE\n",
    "\n",
    "Tracking user activity with frontend events. We want to track user activity and ticket submissions on the customer support page since they could be positively or negatively impacted by design changes. We want to track: \n",
    "\n",
    "- When user views the help center page, ViewedHelpCenterPage\n",
    "- When user clicks on FAQ link, ClickedFAQs\n",
    "- When user clicks the contact customer support button, ClickedContactSupport\n",
    "- When user clicks the submit ticket button, SubmittedTicket\n",
    "\n",
    "Task: \n",
    "Using frontendeventlog table and CASE, count the number of times a user completes the following events: \n",
    "\n",
    "- ViewedHelpCenterPage (eventid = 1)\n",
    "- ClickedFAQs (eventid = 2)\n",
    "- ClickedContactSupport (eventid = 3)\n",
    "- SubmittedTicket (eventid = 4)\n",
    "\n",
    "Filter events with eventtype = 'Customer Support' from the frontendeventdefinitions tavbel to pull only events related to customer support"
   ]
  },
  {
   "cell_type": "code",
   "execution_count": null,
   "metadata": {
    "vscode": {
     "languageId": "sql"
    }
   },
   "outputs": [],
   "source": [
    "SELECT UserID,\n",
    "       SUM( CASE\n",
    "                WHEN EventID = 1 THEN 1\n",
    "                ELSE 0 -- WHEN EventID = 4 THEN SubmittedTicket\n",
    "\n",
    "            END ) AS ViewedHelpCenterPage,\n",
    "       SUM( CASE\n",
    "                WHEN EventID = 2 THEN 1\n",
    "                ELSE 0\n",
    "            END) AS ClickedFAQs,\n",
    "       SUM( CASE\n",
    "                WHEN EventID = 3 THEN 1\n",
    "                ELSE 0\n",
    "            END ) AS ClickedContactSupport,\n",
    "       SUM( CASE\n",
    "                WHEN EventID = 4 THEN 1\n",
    "                ELSE 0\n",
    "            END ) AS SubmittedTicket\n",
    "FROM \n",
    "    FrontendEventLog el\n",
    "JOIN\n",
    "    frontendeventdefinitions def\n",
    "ON el.EventId = def.eventId\n",
    "WHERE def.EventType = 'Customer Support'\n",
    "GROUP BY UserID"
   ]
  },
  {
   "cell_type": "code",
   "execution_count": null,
   "metadata": {
    "vscode": {
     "languageId": "sql"
    }
   },
   "outputs": [],
   "source": [
    "--Alternatively\n",
    "\n",
    "SELECT \n",
    "    UserID \n",
    "    , (CASE WHEN el.EventId = 1 THEN 1 ELSE 0 END) AS ViewedHelpCenterPage\n",
    "    , (CASE WHEN el.EventId = 2 THEN 1 ELSE 0 END) AS ClickedFAQs\n",
    "    , (CASE WHEN el.EventId = 3 THEN 1 ELSE 0 END) AS ClickedContactSupport\n",
    "    , (CASE WHEN el.EventId = 4 THEN 1 ELSE 0 END) AS SubmittedTicket\n",
    "FROM \n",
    "    FrontendEventLog el\n",
    "JOIN \n",
    "    frontendeventdefinitions def \n",
    "    ON el.EventID = def.EventId\n",
    "WHERE \n",
    "    def.EventType = 'Customer Support'\n",
    "GROUP BY \n",
    "    el.UserID\n"
   ]
  },
  {
   "cell_type": "markdown",
   "metadata": {},
   "source": [
    "Combine product tables with UNION\n",
    "\n",
    "Growth Officer wants to reduce churn and wants to launch marketing experiments to drive renewal. Different products are not currently in the same table, so there are currently 2 product tables. \n",
    "\n",
    "Task: Count the number of active subscriptions, active = 1, that will expire in each year. \n",
    "\n",
    "Aggregate the number of subscriptions each year as all subscriptions using a CTE"
   ]
  },
  {
   "cell_type": "code",
   "execution_count": null,
   "metadata": {
    "vscode": {
     "languageId": "sql"
    }
   },
   "outputs": [],
   "source": [
    "-- SQL request(s)​​​​​​‌​‌​​‌‌​‌​‌‌​‌​‌​‌​‌​‌​‌‌ below\n",
    "WITH all_subscriptions AS\n",
    "    ( SELECT *\n",
    "     FROM SubscriptionsProduct1\n",
    "     WHERE Active = 1\n",
    "     UNION SELECT *\n",
    "     FROM SubscriptionsProduct2\n",
    "     WHERE Active = 1 )\n",
    "select date_trunc('year', expirationdate) as exp_year,\n",
    "       count(*) as subscriptions\n",
    "from all_subscriptions\n",
    "group by date_trunc('year', expirationdate)"
   ]
  },
  {
   "cell_type": "markdown",
   "metadata": {},
   "source": [
    "Unpivoting Columns into Rows using UNION\n",
    "\n",
    "Analyzing Subscription Cancelation Reasons\n",
    "Task: Use the cancelations table to cacluate the percent of canceled subscriptions that reported \"expensive\" as one of the reasons. "
   ]
  },
  {
   "cell_type": "code",
   "execution_count": null,
   "metadata": {
    "vscode": {
     "languageId": "sql"
    }
   },
   "outputs": [],
   "source": [
    "with all_cancelation_reasons as\n",
    "    ( SELECT SubscriptionID, CancelationReason1 AS cancelationreason\n",
    "     FROM Cancelations\n",
    "     UNION ALL SELECT SubscriptionID, CancelationReason2 AS cancelationreason\n",
    "     FROM Cancelations\n",
    "     UNION ALL SELECT SubscriptionID, CancelationReason3 AS cancelationreason\n",
    "     FROM Cancelations )\n",
    "select cast(count( case\n",
    "                       when cancelationreason = 'Expensive' then subscriptionid\n",
    "                   end) as float) /count(distinct subscriptionid) as percent_expensive\n",
    "from all_cancelation_reasons ;"
   ]
  },
  {
   "cell_type": "markdown",
   "metadata": {},
   "source": [
    "Using Self Joins to Pull Hierarchical Relationships\n",
    "\n",
    "Employee/Manager name data\n",
    "Create an email list from the employees table that includes the following columns for all employees in the sales department: \n",
    "\n",
    "- employeeid\n",
    "- employee_name\n",
    "- manager_name\n",
    "- contact_email (manager if avail, otherwise employee)"
   ]
  },
  {
   "cell_type": "code",
   "execution_count": null,
   "metadata": {
    "vscode": {
     "languageId": "sql"
    }
   },
   "outputs": [],
   "source": [
    "SELECT e.EmployeeId ,\n",
    "       e.Name AS employee_name ,\n",
    "       mgr.Name AS Manager_Name,\n",
    "       CASE\n",
    "           WHEN mgr.email IS NOT NULL THEN mgr.email\n",
    "           ELSE e.email\n",
    "       END AS contact_email\n",
    "FROM employees e\n",
    "LEFT JOIN employees mgr ON e.ManagerID = mgr.EmployeeID\n",
    "WHERE e.Department = 'Sales'"
   ]
  },
  {
   "cell_type": "markdown",
   "metadata": {},
   "source": [
    "Using Self Joins to Compare Rows within the Same Table\n",
    "\n",
    "Comparing MoM revenue (month-over-month)\n",
    "Task: \n",
    "\n",
    "Using a CTE for monthly_revenue, pull a report that includes\n",
    "\n",
    "- current_month\n",
    "- previous_month\n",
    "- current_revenue\n",
    "- previous_revenue\n",
    "\n",
    "- Only pull rows where the monthly revenue for the current month is greater than the revenue from the previous month\n",
    "- Filter the data so that the date difference in months between the current and previous month is 1"
   ]
  },
  {
   "cell_type": "code",
   "execution_count": null,
   "metadata": {
    "vscode": {
     "languageId": "sql"
    }
   },
   "outputs": [],
   "source": [
    "WITH monthly_revs AS\n",
    "    ( select date_trunc('month', orderdate) as order_month,\n",
    "             sum(revenue) as monthly_revenue\n",
    "     from subscriptions\n",
    "     group by date_trunc('month', orderdate))\n",
    "SELECT current.order_month Current_Month ,\n",
    "       previous.order_month Previous_Month ,\n",
    "       current.monthly_revenue Current_Revenue ,\n",
    "       previous.monthly_revenue Previous_Revenue\n",
    "FROM monthly_revs current\n",
    "JOIN monthly_revs previous\n",
    "WHERE current.monthly_revenue > previous.monthly_revenue\n",
    "    AND datediff('month', previous.order_month, current.order_month) = 1;"
   ]
  }
 ],
 "metadata": {
  "kernelspec": {
   "display_name": "PythonData",
   "language": "python",
   "name": "python3"
  },
  "language_info": {
   "codemirror_mode": {
    "name": "ipython",
    "version": 3
   },
   "file_extension": ".py",
   "mimetype": "text/x-python",
   "name": "python",
   "nbconvert_exporter": "python",
   "pygments_lexer": "ipython3",
   "version": "3.9.12"
  }
 },
 "nbformat": 4,
 "nbformat_minor": 2
}
